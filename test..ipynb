{
 "cells": [
  {
   "cell_type": "markdown",
   "metadata": {},
   "source": [
    "# PAndas preprocessing"
   ]
  },
  {
   "cell_type": "code",
   "execution_count": null,
   "metadata": {},
   "outputs": [],
   "source": [
    "import pandas as pd"
   ]
  },
  {
   "cell_type": "code",
   "execution_count": null,
   "metadata": {},
   "outputs": [],
   "source": [
    "df =  pd.read_html('https://en.wikipedia.org/wiki/List_of_chapters_in_the_Quran')\n",
    "df = df[0]"
   ]
  },
  {
   "cell_type": "code",
   "execution_count": null,
   "metadata": {},
   "outputs": [],
   "source": [
    "df.columns"
   ]
  },
  {
   "cell_type": "code",
   "execution_count": null,
   "metadata": {},
   "outputs": [],
   "source": [
    "df2 = df[['Anglicized title(s)', 'Number of verses (Number of Rukūʿs)']]"
   ]
  },
  {
   "cell_type": "code",
   "execution_count": null,
   "metadata": {},
   "outputs": [],
   "source": [
    "df2"
   ]
  },
  {
   "cell_type": "code",
   "execution_count": null,
   "metadata": {},
   "outputs": [],
   "source": [
    "df2['Number of verses (Number of Rukūʿs)'] = df2['Number of verses (Number of Rukūʿs)'].str.split(' ', expand=True)[0]"
   ]
  },
  {
   "cell_type": "code",
   "execution_count": null,
   "metadata": {},
   "outputs": [],
   "source": [
    "df2"
   ]
  },
  {
   "cell_type": "code",
   "execution_count": null,
   "metadata": {},
   "outputs": [],
   "source": [
    "df2.to_csv('surah_aayah_count.csv', index=False)"
   ]
  },
  {
   "cell_type": "markdown",
   "metadata": {},
   "source": [
    "# Scraping tests"
   ]
  },
  {
   "cell_type": "code",
   "execution_count": null,
   "metadata": {},
   "outputs": [],
   "source": [
    "import pandas as pd\n",
    "import numpy as np\n",
    "import requests\n",
    "import os"
   ]
  },
  {
   "cell_type": "code",
   "execution_count": null,
   "metadata": {},
   "outputs": [],
   "source": [
    "surah_df = pd.read_csv('surah_aayah_count.csv').dropna()\n",
    "\n",
    "def generate_dateset(imam):\n",
    "    output_dir = 'data'\n",
    "    if not os.path.exists(output_dir):\n",
    "        os.mkdir(output_dir)\n",
    "    output_dir = os.path.join(output_dir, imam)\n",
    "    if not os.path.exists(output_dir):\n",
    "        os.mkdir(output_dir)\n",
    "\n",
    "    for surah_index in range(0, 113):\n",
    "        for aayah_number in range(1, int(surah_df.iloc[surah_index]['Number of verses (Number of Rukūʿs)'] + 1)):\n",
    "            file_name = f'{str(surah_index+1).zfill(3)}{str(aayah_number).zfill(3)}'\n",
    "            url = f\"https://everyayah.com/data/{imam}/{file_name}.mp3\"\n",
    "\n",
    "            out_file_path = os.path.join(output_dir, f'{surah_index+1}_{aayah_number}.mp3')\n",
    "            if os.path.exists(out_file_path):\n",
    "                continue\n",
    "            doc = requests.get(url)\n",
    "\n",
    "            if doc.status_code == 200:\n",
    "                print(f'{surah_index+1}_{aayah_number}.mp3')\n",
    "                with open(out_file_path, 'wb') as f:\n",
    "                    f.write(doc.content)\n",
    "            else:\n",
    "                raise Exception(f'Error: {doc.status_code} for {url}')"
   ]
  },
  {
   "cell_type": "code",
   "execution_count": null,
   "metadata": {},
   "outputs": [],
   "source": [
    "imam_df = pd.read_csv('audiocats.csv')\n",
    "df_chunks = np.array_split(imam_df, 10)"
   ]
  },
  {
   "cell_type": "code",
   "execution_count": null,
   "metadata": {},
   "outputs": [],
   "source": [
    "df_chunks"
   ]
  },
  {
   "cell_type": "code",
   "execution_count": null,
   "metadata": {},
   "outputs": [],
   "source": [
    "def generate_dataset_parallel(df):\n",
    "    for imam in df['imam'].unique():\n",
    "        generate_dateset(imam)"
   ]
  },
  {
   "cell_type": "code",
   "execution_count": null,
   "metadata": {},
   "outputs": [],
   "source": [
    "from multiprocessing import Pool\n",
    "\n",
    "with Pool(8) as p:\n",
    "    print(p.map(generate_dataset_parallel, df_chunks))"
   ]
  },
  {
   "cell_type": "markdown",
   "metadata": {},
   "source": [
    "# Regex experiment"
   ]
  },
  {
   "cell_type": "code",
   "execution_count": 10,
   "metadata": {},
   "outputs": [],
   "source": [
    "import pandas as pd\n",
    "import re"
   ]
  },
  {
   "cell_type": "code",
   "execution_count": 16,
   "metadata": {},
   "outputs": [],
   "source": [
    "df = pd.read_excel('dataset 121.xlsx', sheet_name='Sheet4', header=[None])"
   ]
  },
  {
   "cell_type": "code",
   "execution_count": 17,
   "metadata": {},
   "outputs": [
    {
     "data": {
      "text/html": [
       "<div>\n",
       "<style scoped>\n",
       "    .dataframe tbody tr th:only-of-type {\n",
       "        vertical-align: middle;\n",
       "    }\n",
       "\n",
       "    .dataframe tbody tr th {\n",
       "        vertical-align: top;\n",
       "    }\n",
       "\n",
       "    .dataframe thead th {\n",
       "        text-align: right;\n",
       "    }\n",
       "</style>\n",
       "<table border=\"1\" class=\"dataframe\">\n",
       "  <thead>\n",
       "    <tr style=\"text-align: right;\">\n",
       "      <th></th>\n",
       "      <th>0</th>\n",
       "    </tr>\n",
       "  </thead>\n",
       "  <tbody>\n",
       "    <tr>\n",
       "      <th>0</th>\n",
       "      <td>بِسْمِ ٱللَّهِ ٱلرَّحْمَـٰنِ ٱلرَّحِيمِ</td>\n",
       "    </tr>\n",
       "    <tr>\n",
       "      <th>1</th>\n",
       "      <td>ٱلْحَمْدُ لِلَّهِ رَبِّ ٱلْعَـٰلَمِينَ</td>\n",
       "    </tr>\n",
       "    <tr>\n",
       "      <th>2</th>\n",
       "      <td>ٱلرَّحْمَـٰنِ ٱلرَّحِيمِ</td>\n",
       "    </tr>\n",
       "    <tr>\n",
       "      <th>3</th>\n",
       "      <td>مَـٰلِكِ يَوْمِ ٱلدِّينِ</td>\n",
       "    </tr>\n",
       "    <tr>\n",
       "      <th>4</th>\n",
       "      <td>إِيَّاكَ نَعْبُدُ وَإِيَّاكَ نَسْتَعِينُ</td>\n",
       "    </tr>\n",
       "    <tr>\n",
       "      <th>...</th>\n",
       "      <td>...</td>\n",
       "    </tr>\n",
       "    <tr>\n",
       "      <th>6263</th>\n",
       "      <td>#    derived from or containing substantial po...</td>\n",
       "    </tr>\n",
       "    <tr>\n",
       "      <th>6264</th>\n",
       "      <td>#</td>\n",
       "    </tr>\n",
       "    <tr>\n",
       "      <th>6265</th>\n",
       "      <td>#  Please check updates at: http://tanzil.net/...</td>\n",
       "    </tr>\n",
       "    <tr>\n",
       "      <th>6266</th>\n",
       "      <td>#</td>\n",
       "    </tr>\n",
       "    <tr>\n",
       "      <th>6267</th>\n",
       "      <td>#=============================================...</td>\n",
       "    </tr>\n",
       "  </tbody>\n",
       "</table>\n",
       "<p>6268 rows × 1 columns</p>\n",
       "</div>"
      ],
      "text/plain": [
       "                                                      0\n",
       "0               بِسْمِ ٱللَّهِ ٱلرَّحْمَـٰنِ ٱلرَّحِيمِ\n",
       "1                ٱلْحَمْدُ لِلَّهِ رَبِّ ٱلْعَـٰلَمِينَ\n",
       "2                              ٱلرَّحْمَـٰنِ ٱلرَّحِيمِ\n",
       "3                              مَـٰلِكِ يَوْمِ ٱلدِّينِ\n",
       "4              إِيَّاكَ نَعْبُدُ وَإِيَّاكَ نَسْتَعِينُ\n",
       "...                                                 ...\n",
       "6263  #    derived from or containing substantial po...\n",
       "6264                                                  #\n",
       "6265  #  Please check updates at: http://tanzil.net/...\n",
       "6266                                                  #\n",
       "6267  #=============================================...\n",
       "\n",
       "[6268 rows x 1 columns]"
      ]
     },
     "execution_count": 17,
     "metadata": {},
     "output_type": "execute_result"
    }
   ],
   "source": [
    "df"
   ]
  },
  {
   "cell_type": "code",
   "execution_count": 49,
   "metadata": {},
   "outputs": [],
   "source": [
    "aayah = '2|3|ٱلَّذِينَ يُؤْمِنُونَ بِٱلْغَيْبِ وَيُقِيمُونَ ٱلصَّلَوٰةَ وَمِمَّا رَزَقْنَـٰهُمْ يُنفِقُونَ'"
   ]
  },
  {
   "cell_type": "code",
   "execution_count": 50,
   "metadata": {},
   "outputs": [
    {
     "data": {
      "text/plain": [
       "'2|3|ٱلَّذِينَ يُؤْمِنُونَ بِٱلْغَيْبِ وَيُقِيمُونَ ٱلصَّلَوٰةَ وَمِمَّا رَزَقْنَـٰهُمْ يُنفِقُونَ'"
      ]
     },
     "execution_count": 50,
     "metadata": {},
     "output_type": "execute_result"
    }
   ],
   "source": [
    "aayah.replace(r'[0-9]', '')   "
   ]
  },
  {
   "cell_type": "code",
   "execution_count": 51,
   "metadata": {},
   "outputs": [
    {
     "data": {
      "text/plain": [
       "'ٱلَّذِينَ يُؤْمِنُونَ بِٱلْغَيْبِ وَيُقِيمُونَ ٱلصَّلَوٰةَ وَمِمَّا رَزَقْنَـٰهُمْ يُنفِقُونَ'"
      ]
     },
     "execution_count": 51,
     "metadata": {},
     "output_type": "execute_result"
    }
   ],
   "source": [
    "re.sub(r'[a-z]|[A-Z]|[0-9]|\\|', '', aayah)"
   ]
  },
  {
   "cell_type": "code",
   "execution_count": 26,
   "metadata": {},
   "outputs": [],
   "source": [
    "df = df.dropna()"
   ]
  },
  {
   "cell_type": "code",
   "execution_count": 66,
   "metadata": {},
   "outputs": [],
   "source": [
    "df2 = df[0].apply(lambda x: re.sub(r'[a-z]|[A-Z]|[0-9]|\\|', '', x))"
   ]
  },
  {
   "cell_type": "code",
   "execution_count": 67,
   "metadata": {},
   "outputs": [],
   "source": [
    "df2.to_excel('cleaned_dataset.xlsx', index=False)"
   ]
  },
  {
   "cell_type": "code",
   "execution_count": 53,
   "metadata": {},
   "outputs": [
    {
     "data": {
      "text/plain": [
       "0               بِسْمِ ٱللَّهِ ٱلرَّحْمَـٰنِ ٱلرَّحِيمِ\n",
       "1                ٱلْحَمْدُ لِلَّهِ رَبِّ ٱلْعَـٰلَمِينَ\n",
       "2                              ٱلرَّحْمَـٰنِ ٱلرَّحِيمِ\n",
       "3                              مَـٰلِكِ يَوْمِ ٱلدِّينِ\n",
       "4              إِيَّاكَ نَعْبُدُ وَإِيَّاكَ نَسْتَعِينُ\n",
       "5                    ٱهْدِنَا ٱلصِّرَٰطَ ٱلْمُسْتَقِيمَ\n",
       "6     صِرَٰطَ ٱلَّذِينَ أَنْعَمْتَ عَلَيْهِمْ غَيْرِ...\n",
       "8               بِسْمِ ٱللَّهِ ٱلرَّحْمَـٰنِ ٱلرَّحِيمِ\n",
       "9                                                 الٓمٓ\n",
       "10    ذَٰلِكَ ٱلْكِتَـٰبُ لَا رَيْبَ فِيهِ هُدًى لِّ...\n",
       "11    ٱلَّذِينَ يُؤْمِنُونَ بِٱلْغَيْبِ وَيُقِيمُونَ...\n",
       "12    وَٱلَّذِينَ يُؤْمِنُونَ بِمَآ أُنزِلَ إِلَيْك...\n",
       "13    أُو۟لَـٰٓئِكَ عَلَىٰ هُدًى مِّن رَّبِّهِمْ وَأ...\n",
       "14    إِنَّ ٱلَّذِينَ كَفَرُوا۟ سَوَآءٌ عَلَيْهِمْ ...\n",
       "15    خَتَمَ ٱللَّهُ عَلَىٰ قُلُوبِهِمْ وَعَلَىٰ سَم...\n",
       "16    وَمِنَ ٱلنَّاسِ مَن يَقُولُ ءَامَنَّا بِٱللَّه...\n",
       "17    يُخَـٰدِعُونَ ٱللَّهَ وَٱلَّذِينَ ءَامَنُوا۟ و...\n",
       "18    فِى قُلُوبِهِم مَّرَضٌ فَزَادَهُمُ ٱللَّهُ مَر...\n",
       "19    وَإِذَا قِيلَ لَهُمْ لَا تُفْسِدُوا۟ فِى ٱلْأَ...\n",
       "20    أَلَآ إِنَّهُمْ هُمُ ٱلْمُفْسِدُونَ وَلَـٰكِن...\n",
       "Name: 0, dtype: object"
      ]
     },
     "execution_count": 53,
     "metadata": {},
     "output_type": "execute_result"
    }
   ],
   "source": [
    "df2.head(20)"
   ]
  },
  {
   "cell_type": "code",
   "execution_count": 59,
   "metadata": {},
   "outputs": [
    {
     "data": {
      "text/plain": [
       "0               بِسْمِ ٱللَّهِ ٱلرَّحْمَـٰنِ ٱلرَّحِيمِ\n",
       "1                ٱلْحَمْدُ لِلَّهِ رَبِّ ٱلْعَـٰلَمِينَ\n",
       "2                              ٱلرَّحْمَـٰنِ ٱلرَّحِيمِ\n",
       "3                              مَـٰلِكِ يَوْمِ ٱلدِّينِ\n",
       "4              إِيَّاكَ نَعْبُدُ وَإِيَّاكَ نَسْتَعِينُ\n",
       "5                    ٱهْدِنَا ٱلصِّرَٰطَ ٱلْمُسْتَقِيمَ\n",
       "6     صِرَٰطَ ٱلَّذِينَ أَنْعَمْتَ عَلَيْهِمْ غَيْرِ...\n",
       "8               بِسْمِ ٱللَّهِ ٱلرَّحْمَـٰنِ ٱلرَّحِيمِ\n",
       "9                                                 الٓمٓ\n",
       "10    ذَٰلِكَ ٱلْكِتَـٰبُ لَا رَيْبَ فِيهِ هُدًى لِّ...\n",
       "11    2|3|ٱلَّذِينَ يُؤْمِنُونَ بِٱلْغَيْبِ وَيُقِيم...\n",
       "12    2|4|وَٱلَّذِينَ يُؤْمِنُونَ بِمَآ أُنزِلَ إِل...\n",
       "13    2|5|أُو۟لَـٰٓئِكَ عَلَىٰ هُدًى مِّن رَّبِّهِمْ...\n",
       "14    2|6|إِنَّ ٱلَّذِينَ كَفَرُوا۟ سَوَآءٌ عَلَيْه...\n",
       "15    2|7|خَتَمَ ٱللَّهُ عَلَىٰ قُلُوبِهِمْ وَعَلَىٰ...\n",
       "16    2|8|وَمِنَ ٱلنَّاسِ مَن يَقُولُ ءَامَنَّا بِٱل...\n",
       "17    2|9|يُخَـٰدِعُونَ ٱللَّهَ وَٱلَّذِينَ ءَامَنُو...\n",
       "18    2|10|فِى قُلُوبِهِم مَّرَضٌ فَزَادَهُمُ ٱللَّه...\n",
       "19    2|11|وَإِذَا قِيلَ لَهُمْ لَا تُفْسِدُوا۟ فِى ...\n",
       "20    2|12|أَلَآ إِنَّهُمْ هُمُ ٱلْمُفْسِدُونَ وَلَ...\n",
       "Name: 0, dtype: object"
      ]
     },
     "execution_count": 59,
     "metadata": {},
     "output_type": "execute_result"
    }
   ],
   "source": [
    "df[0].str.replace(r'([@A-Za-z0-9_ـــــــــــــ]+)|[^\\w\\s]|#|http\\S+', '').head(20)"
   ]
  },
  {
   "cell_type": "code",
   "execution_count": 61,
   "metadata": {},
   "outputs": [
    {
     "data": {
      "text/plain": [
       "'ٱلذين يؤمنون بٱلغيب ويقيمون ٱلصلوة ومما رزقنهم ينفقون'"
      ]
     },
     "execution_count": 61,
     "metadata": {},
     "output_type": "execute_result"
    }
   ],
   "source": [
    "re.sub(r'([@A-Za-z0-9_ـــــــــــــ]+)|[^\\w\\s]|#|http\\S+', '', aayah)"
   ]
  },
  {
   "cell_type": "markdown",
   "metadata": {},
   "source": [
    "# Aayah separation"
   ]
  },
  {
   "cell_type": "code",
   "execution_count": 68,
   "metadata": {},
   "outputs": [],
   "source": [
    "import pandas as pd"
   ]
  },
  {
   "cell_type": "code",
   "execution_count": 73,
   "metadata": {},
   "outputs": [],
   "source": [
    "df = pd.read_csv('Arabic-Original.csv', delimiter='|', header=None)"
   ]
  },
  {
   "cell_type": "code",
   "execution_count": 75,
   "metadata": {},
   "outputs": [],
   "source": [
    "df.columns = ['surah_number', 'aayah_number', 'aayah']"
   ]
  },
  {
   "cell_type": "code",
   "execution_count": 76,
   "metadata": {},
   "outputs": [
    {
     "data": {
      "text/html": [
       "<div>\n",
       "<style scoped>\n",
       "    .dataframe tbody tr th:only-of-type {\n",
       "        vertical-align: middle;\n",
       "    }\n",
       "\n",
       "    .dataframe tbody tr th {\n",
       "        vertical-align: top;\n",
       "    }\n",
       "\n",
       "    .dataframe thead th {\n",
       "        text-align: right;\n",
       "    }\n",
       "</style>\n",
       "<table border=\"1\" class=\"dataframe\">\n",
       "  <thead>\n",
       "    <tr style=\"text-align: right;\">\n",
       "      <th></th>\n",
       "      <th>surah_number</th>\n",
       "      <th>aayah_number</th>\n",
       "      <th>aayah</th>\n",
       "    </tr>\n",
       "  </thead>\n",
       "  <tbody>\n",
       "    <tr>\n",
       "      <th>0</th>\n",
       "      <td>1</td>\n",
       "      <td>1</td>\n",
       "      <td>بِسْمِ اللَّهِ الرَّحْمَٰنِ الرَّحِيمِ</td>\n",
       "    </tr>\n",
       "    <tr>\n",
       "      <th>1</th>\n",
       "      <td>1</td>\n",
       "      <td>2</td>\n",
       "      <td>الْحَمْدُ لِلَّهِ رَبِّ الْعَالَمِينَ</td>\n",
       "    </tr>\n",
       "    <tr>\n",
       "      <th>2</th>\n",
       "      <td>1</td>\n",
       "      <td>3</td>\n",
       "      <td>الرَّحْمَٰنِ الرَّحِيمِ</td>\n",
       "    </tr>\n",
       "    <tr>\n",
       "      <th>3</th>\n",
       "      <td>1</td>\n",
       "      <td>4</td>\n",
       "      <td>مَالِكِ يَوْمِ الدِّينِ</td>\n",
       "    </tr>\n",
       "    <tr>\n",
       "      <th>4</th>\n",
       "      <td>1</td>\n",
       "      <td>5</td>\n",
       "      <td>إِيَّاكَ نَعْبُدُ وَإِيَّاكَ نَسْتَعِينُ</td>\n",
       "    </tr>\n",
       "    <tr>\n",
       "      <th>...</th>\n",
       "      <td>...</td>\n",
       "      <td>...</td>\n",
       "      <td>...</td>\n",
       "    </tr>\n",
       "    <tr>\n",
       "      <th>6231</th>\n",
       "      <td>114</td>\n",
       "      <td>2</td>\n",
       "      <td>مَلِكِ النَّاسِ</td>\n",
       "    </tr>\n",
       "    <tr>\n",
       "      <th>6232</th>\n",
       "      <td>114</td>\n",
       "      <td>3</td>\n",
       "      <td>إِلَٰهِ النَّاسِ</td>\n",
       "    </tr>\n",
       "    <tr>\n",
       "      <th>6233</th>\n",
       "      <td>114</td>\n",
       "      <td>4</td>\n",
       "      <td>مِنْ شَرِّ الْوَسْوَاسِ الْخَنَّاسِ</td>\n",
       "    </tr>\n",
       "    <tr>\n",
       "      <th>6234</th>\n",
       "      <td>114</td>\n",
       "      <td>5</td>\n",
       "      <td>الَّذِي يُوَسْوِسُ فِي صُدُورِ النَّاسِ</td>\n",
       "    </tr>\n",
       "    <tr>\n",
       "      <th>6235</th>\n",
       "      <td>114</td>\n",
       "      <td>6</td>\n",
       "      <td>مِنَ الْجِنَّةِ وَالنَّاسِ</td>\n",
       "    </tr>\n",
       "  </tbody>\n",
       "</table>\n",
       "<p>6236 rows × 3 columns</p>\n",
       "</div>"
      ],
      "text/plain": [
       "      surah_number  aayah_number                                     aayah\n",
       "0                1             1    بِسْمِ اللَّهِ الرَّحْمَٰنِ الرَّحِيمِ\n",
       "1                1             2     الْحَمْدُ لِلَّهِ رَبِّ الْعَالَمِينَ\n",
       "2                1             3                   الرَّحْمَٰنِ الرَّحِيمِ\n",
       "3                1             4                   مَالِكِ يَوْمِ الدِّينِ\n",
       "4                1             5  إِيَّاكَ نَعْبُدُ وَإِيَّاكَ نَسْتَعِينُ\n",
       "...            ...           ...                                       ...\n",
       "6231           114             2                           مَلِكِ النَّاسِ\n",
       "6232           114             3                          إِلَٰهِ النَّاسِ\n",
       "6233           114             4       مِنْ شَرِّ الْوَسْوَاسِ الْخَنَّاسِ\n",
       "6234           114             5   الَّذِي يُوَسْوِسُ فِي صُدُورِ النَّاسِ\n",
       "6235           114             6                مِنَ الْجِنَّةِ وَالنَّاسِ\n",
       "\n",
       "[6236 rows x 3 columns]"
      ]
     },
     "execution_count": 76,
     "metadata": {},
     "output_type": "execute_result"
    }
   ],
   "source": [
    "df"
   ]
  },
  {
   "cell_type": "code",
   "execution_count": 77,
   "metadata": {},
   "outputs": [
    {
     "data": {
      "text/html": [
       "<div>\n",
       "<style scoped>\n",
       "    .dataframe tbody tr th:only-of-type {\n",
       "        vertical-align: middle;\n",
       "    }\n",
       "\n",
       "    .dataframe tbody tr th {\n",
       "        vertical-align: top;\n",
       "    }\n",
       "\n",
       "    .dataframe thead th {\n",
       "        text-align: right;\n",
       "    }\n",
       "</style>\n",
       "<table border=\"1\" class=\"dataframe\">\n",
       "  <thead>\n",
       "    <tr style=\"text-align: right;\">\n",
       "      <th></th>\n",
       "      <th>surah_number</th>\n",
       "      <th>aayah_number</th>\n",
       "      <th>aayah</th>\n",
       "    </tr>\n",
       "  </thead>\n",
       "  <tbody>\n",
       "    <tr>\n",
       "      <th>0</th>\n",
       "      <td>1</td>\n",
       "      <td>1</td>\n",
       "      <td>بِسْمِ اللَّهِ الرَّحْمَٰنِ الرَّحِيمِ</td>\n",
       "    </tr>\n",
       "  </tbody>\n",
       "</table>\n",
       "</div>"
      ],
      "text/plain": [
       "   surah_number  aayah_number                                   aayah\n",
       "0             1             1  بِسْمِ اللَّهِ الرَّحْمَٰنِ الرَّحِيمِ"
      ]
     },
     "execution_count": 77,
     "metadata": {},
     "output_type": "execute_result"
    }
   ],
   "source": [
    "df[df['aayah'] == 'بِسْمِ اللَّهِ الرَّحْمَٰنِ الرَّحِيمِ']"
   ]
  },
  {
   "cell_type": "code",
   "execution_count": null,
   "metadata": {},
   "outputs": [],
   "source": [
    "import os"
   ]
  },
  {
   "cell_type": "code",
   "execution_count": 1,
   "metadata": {},
   "outputs": [],
   "source": [
    "directories_from_liban = [\"AbdulSamad_64kbps_QuranExplorer.Com\", \"Abdul_Basit_Mujawwad_128kbps\", \"Abdul_Basit_Murattal_192kbps\", \"Abdullaah_3awwaad_Al-Juhaynee_128kbps\", \"Abdullah_Basfar_192kbps\", \"Abdullah_Matroud_128kbps\", \"Abdurrahmaan_As-Sudais_192kbps\", \"Abu_Bakr_Ash-Shaatree_128kbps\", \"Ahmed_Neana_128kbps\", \"Ahmed_ibn_Ali_al-Ajamy_128kbps_ketaballah.net\", \"Akram_AlAlaqimy_128kbps\", \"Alafasy_128kbps\", \"Ali_Jaber_64kbps\", \"Ayman_Sowaid_64kbps\", \"Fares_Abbad_64kbps\", \"Ghamadi_40kbps\", \"Hani_Rifai_192kbps\", \"Hudhaify_128kbps\", \"Husary_128kbps\", \"Husary_128kbps_Mujawwad\", \"Husary_Muallim_128kbps\", \"Karim_Mansoori_40kbps\", \"Khaalid_Abdullaah_al-Qahtaanee_192kbps\", \"MaherAlMuaiqly128kbps\", \"Maher_AlMuaiqly_64kbps\", \"Menshawi_16kbps\", \"Minshawy_Mujawwad_192kbps\", \"Minshawy_Murattal_128kbps\", \"Mohammad_al_Tablaway_128kbps\", \"Muhammad_AbdulKareem_128kbps\", \"Muhammad_Ayyoub_128kbps\", \"Muhammad_Jibreel_128kbps\", \"Muhsin_Al_Qasim_192kbps\", \"Nasser_Alqatami_128kbps\", \"Parhizgar_48kbps\", \"Sahl_Yassin_128kbps\", \"Salaah_AbdulRahman_Bukhatir_128kbps\", \"Salah_Al_Budair_128kbps\", \"Yaser_Salamah_128kbps\", \"ahmed_ibn_ali_al_ajamy_128kbps\"]"
   ]
  },
  {
   "cell_type": "code",
   "execution_count": 5,
   "metadata": {},
   "outputs": [
    {
     "data": {
      "text/plain": [
       "{'Ali_Hajjaj_AlSuesy_128kbps',\n",
       " 'Dussary_128kbps',\n",
       " 'Ibrahim_Akhdar_64kbps',\n",
       " 'Mustafa_Ismail_48kbps',\n",
       " 'Nabil_Rifa3i_48kbps',\n",
       " 'Shuraym_128kbps'}"
      ]
     },
     "execution_count": 5,
     "metadata": {},
     "output_type": "execute_result"
    }
   ],
   "source": [
    "list(set(os.listdir('data')) - set(directories_from_liban) - set(['__init__.py']))"
   ]
  },
  {
   "cell_type": "markdown",
   "metadata": {},
   "source": [
    "# Making the final dataset"
   ]
  },
  {
   "cell_type": "code",
   "execution_count": 23,
   "metadata": {},
   "outputs": [
    {
     "data": {
      "text/html": [
       "<div>\n",
       "<style scoped>\n",
       "    .dataframe tbody tr th:only-of-type {\n",
       "        vertical-align: middle;\n",
       "    }\n",
       "\n",
       "    .dataframe tbody tr th {\n",
       "        vertical-align: top;\n",
       "    }\n",
       "\n",
       "    .dataframe thead th {\n",
       "        text-align: right;\n",
       "    }\n",
       "</style>\n",
       "<table border=\"1\" class=\"dataframe\">\n",
       "  <thead>\n",
       "    <tr style=\"text-align: right;\">\n",
       "      <th></th>\n",
       "      <th>aayah</th>\n",
       "    </tr>\n",
       "  </thead>\n",
       "  <tbody>\n",
       "    <tr>\n",
       "      <th>0</th>\n",
       "      <td>بِسْمِ اللَّهِ الرَّحْمَٰنِ الرَّحِيمِ</td>\n",
       "    </tr>\n",
       "    <tr>\n",
       "      <th>1</th>\n",
       "      <td>الْحَمْدُ لِلَّهِ رَبِّ الْعَالَمِينَ</td>\n",
       "    </tr>\n",
       "    <tr>\n",
       "      <th>2</th>\n",
       "      <td>الرَّحْمَٰنِ الرَّحِيمِ</td>\n",
       "    </tr>\n",
       "    <tr>\n",
       "      <th>3</th>\n",
       "      <td>مَالِكِ يَوْمِ الدِّينِ</td>\n",
       "    </tr>\n",
       "    <tr>\n",
       "      <th>4</th>\n",
       "      <td>إِيَّاكَ نَعْبُدُ وَإِيَّاكَ نَسْتَعِينُ</td>\n",
       "    </tr>\n",
       "    <tr>\n",
       "      <th>...</th>\n",
       "      <td>...</td>\n",
       "    </tr>\n",
       "    <tr>\n",
       "      <th>6231</th>\n",
       "      <td>مَلِكِ النَّاسِ</td>\n",
       "    </tr>\n",
       "    <tr>\n",
       "      <th>6232</th>\n",
       "      <td>إِلَٰهِ النَّاسِ</td>\n",
       "    </tr>\n",
       "    <tr>\n",
       "      <th>6233</th>\n",
       "      <td>مِنْ شَرِّ الْوَسْوَاسِ الْخَنَّاسِ</td>\n",
       "    </tr>\n",
       "    <tr>\n",
       "      <th>6234</th>\n",
       "      <td>الَّذِي يُوَسْوِسُ فِي صُدُورِ النَّاسِ</td>\n",
       "    </tr>\n",
       "    <tr>\n",
       "      <th>6235</th>\n",
       "      <td>مِنَ الْجِنَّةِ وَالنَّاسِ</td>\n",
       "    </tr>\n",
       "  </tbody>\n",
       "</table>\n",
       "<p>6236 rows × 1 columns</p>\n",
       "</div>"
      ],
      "text/plain": [
       "                                         aayah\n",
       "0       بِسْمِ اللَّهِ الرَّحْمَٰنِ الرَّحِيمِ\n",
       "1        الْحَمْدُ لِلَّهِ رَبِّ الْعَالَمِينَ\n",
       "2                      الرَّحْمَٰنِ الرَّحِيمِ\n",
       "3                      مَالِكِ يَوْمِ الدِّينِ\n",
       "4     إِيَّاكَ نَعْبُدُ وَإِيَّاكَ نَسْتَعِينُ\n",
       "...                                        ...\n",
       "6231                           مَلِكِ النَّاسِ\n",
       "6232                          إِلَٰهِ النَّاسِ\n",
       "6233       مِنْ شَرِّ الْوَسْوَاسِ الْخَنَّاسِ\n",
       "6234   الَّذِي يُوَسْوِسُ فِي صُدُورِ النَّاسِ\n",
       "6235                مِنَ الْجِنَّةِ وَالنَّاسِ\n",
       "\n",
       "[6236 rows x 1 columns]"
      ]
     },
     "execution_count": 23,
     "metadata": {},
     "output_type": "execute_result"
    }
   ],
   "source": [
    "import pandas as pd\n",
    "import glob\n",
    "import os\n",
    "\n",
    "df = pd.read_csv('Arabic-Original.csv', delimiter='|', header=None)\n",
    "df.columns = ['surah_number', 'aayah_number', 'aayah']\n",
    "df.drop(['surah_number', 'aayah_number'], axis=1, inplace=True)\n",
    "df"
   ]
  },
  {
   "cell_type": "code",
   "execution_count": 26,
   "metadata": {},
   "outputs": [],
   "source": [
    "dataset = None\n",
    "\n",
    "for qari in os.listdir('data\\\\bismillah'):\n",
    "    _df = df.copy()\n",
    "    audio_files = glob.glob(f'data\\\\bismillah\\\\{qari}\\\\*.mp3')\n",
    "    _df['audio_paths'] = audio_files + [None] * (len(_df) - len(audio_files))  \n",
    "    _df = _df.dropna()\n",
    "\n",
    "    if dataset is None:\n",
    "        dataset = _df\n",
    "    else:\n",
    "        dataset = pd.concat([dataset, _df]).reset_index(drop=True)    \n"
   ]
  },
  {
   "cell_type": "code",
   "execution_count": 27,
   "metadata": {},
   "outputs": [
    {
     "data": {
      "text/html": [
       "<div>\n",
       "<style scoped>\n",
       "    .dataframe tbody tr th:only-of-type {\n",
       "        vertical-align: middle;\n",
       "    }\n",
       "\n",
       "    .dataframe tbody tr th {\n",
       "        vertical-align: top;\n",
       "    }\n",
       "\n",
       "    .dataframe thead th {\n",
       "        text-align: right;\n",
       "    }\n",
       "</style>\n",
       "<table border=\"1\" class=\"dataframe\">\n",
       "  <thead>\n",
       "    <tr style=\"text-align: right;\">\n",
       "      <th></th>\n",
       "      <th>aayah</th>\n",
       "      <th>audio_paths</th>\n",
       "    </tr>\n",
       "  </thead>\n",
       "  <tbody>\n",
       "    <tr>\n",
       "      <th>0</th>\n",
       "      <td>بِسْمِ اللَّهِ الرَّحْمَٰنِ الرَّحِيمِ</td>\n",
       "      <td>data\\bismillah\\Abdullaah_3awwaad_Al-Juhaynee_1...</td>\n",
       "    </tr>\n",
       "    <tr>\n",
       "      <th>1</th>\n",
       "      <td>الْحَمْدُ لِلَّهِ رَبِّ الْعَالَمِينَ</td>\n",
       "      <td>data\\bismillah\\Abdullaah_3awwaad_Al-Juhaynee_1...</td>\n",
       "    </tr>\n",
       "    <tr>\n",
       "      <th>2</th>\n",
       "      <td>الرَّحْمَٰنِ الرَّحِيمِ</td>\n",
       "      <td>data\\bismillah\\Abdullaah_3awwaad_Al-Juhaynee_1...</td>\n",
       "    </tr>\n",
       "    <tr>\n",
       "      <th>3</th>\n",
       "      <td>مَالِكِ يَوْمِ الدِّينِ</td>\n",
       "      <td>data\\bismillah\\Abdullaah_3awwaad_Al-Juhaynee_1...</td>\n",
       "    </tr>\n",
       "    <tr>\n",
       "      <th>4</th>\n",
       "      <td>إِيَّاكَ نَعْبُدُ وَإِيَّاكَ نَسْتَعِينُ</td>\n",
       "      <td>data\\bismillah\\Abdullaah_3awwaad_Al-Juhaynee_1...</td>\n",
       "    </tr>\n",
       "    <tr>\n",
       "      <th>...</th>\n",
       "      <td>...</td>\n",
       "      <td>...</td>\n",
       "    </tr>\n",
       "    <tr>\n",
       "      <th>150310</th>\n",
       "      <td>وَلَقَدِ اسْتُهْزِئَ بِرُسُلٍ مِنْ قَبْلِكَ فَ...</td>\n",
       "      <td>data\\bismillah\\Yaser_Salamah_128kbps\\9_95.mp3</td>\n",
       "    </tr>\n",
       "    <tr>\n",
       "      <th>150311</th>\n",
       "      <td>قُلْ مَنْ يَكْلَؤُكُمْ بِاللَّيْلِ وَالنَّهَار...</td>\n",
       "      <td>data\\bismillah\\Yaser_Salamah_128kbps\\9_96.mp3</td>\n",
       "    </tr>\n",
       "    <tr>\n",
       "      <th>150312</th>\n",
       "      <td>أَمْ لَهُمْ آلِهَةٌ تَمْنَعُهُمْ مِنْ دُونِنَا...</td>\n",
       "      <td>data\\bismillah\\Yaser_Salamah_128kbps\\9_97.mp3</td>\n",
       "    </tr>\n",
       "    <tr>\n",
       "      <th>150313</th>\n",
       "      <td>بَلْ مَتَّعْنَا هَٰؤُلَاءِ وَآبَاءَهُمْ حَتَّى...</td>\n",
       "      <td>data\\bismillah\\Yaser_Salamah_128kbps\\9_98.mp3</td>\n",
       "    </tr>\n",
       "    <tr>\n",
       "      <th>150314</th>\n",
       "      <td>قُلْ إِنَّمَا أُنْذِرُكُمْ بِالْوَحْيِ ۚ وَلَا...</td>\n",
       "      <td>data\\bismillah\\Yaser_Salamah_128kbps\\9_99.mp3</td>\n",
       "    </tr>\n",
       "  </tbody>\n",
       "</table>\n",
       "<p>150315 rows × 2 columns</p>\n",
       "</div>"
      ],
      "text/plain": [
       "                                                    aayah  \\\n",
       "0                  بِسْمِ اللَّهِ الرَّحْمَٰنِ الرَّحِيمِ   \n",
       "1                   الْحَمْدُ لِلَّهِ رَبِّ الْعَالَمِينَ   \n",
       "2                                 الرَّحْمَٰنِ الرَّحِيمِ   \n",
       "3                                 مَالِكِ يَوْمِ الدِّينِ   \n",
       "4                إِيَّاكَ نَعْبُدُ وَإِيَّاكَ نَسْتَعِينُ   \n",
       "...                                                   ...   \n",
       "150310  وَلَقَدِ اسْتُهْزِئَ بِرُسُلٍ مِنْ قَبْلِكَ فَ...   \n",
       "150311  قُلْ مَنْ يَكْلَؤُكُمْ بِاللَّيْلِ وَالنَّهَار...   \n",
       "150312  أَمْ لَهُمْ آلِهَةٌ تَمْنَعُهُمْ مِنْ دُونِنَا...   \n",
       "150313  بَلْ مَتَّعْنَا هَٰؤُلَاءِ وَآبَاءَهُمْ حَتَّى...   \n",
       "150314  قُلْ إِنَّمَا أُنْذِرُكُمْ بِالْوَحْيِ ۚ وَلَا...   \n",
       "\n",
       "                                              audio_paths  \n",
       "0       data\\bismillah\\Abdullaah_3awwaad_Al-Juhaynee_1...  \n",
       "1       data\\bismillah\\Abdullaah_3awwaad_Al-Juhaynee_1...  \n",
       "2       data\\bismillah\\Abdullaah_3awwaad_Al-Juhaynee_1...  \n",
       "3       data\\bismillah\\Abdullaah_3awwaad_Al-Juhaynee_1...  \n",
       "4       data\\bismillah\\Abdullaah_3awwaad_Al-Juhaynee_1...  \n",
       "...                                                   ...  \n",
       "150310      data\\bismillah\\Yaser_Salamah_128kbps\\9_95.mp3  \n",
       "150311      data\\bismillah\\Yaser_Salamah_128kbps\\9_96.mp3  \n",
       "150312      data\\bismillah\\Yaser_Salamah_128kbps\\9_97.mp3  \n",
       "150313      data\\bismillah\\Yaser_Salamah_128kbps\\9_98.mp3  \n",
       "150314      data\\bismillah\\Yaser_Salamah_128kbps\\9_99.mp3  \n",
       "\n",
       "[150315 rows x 2 columns]"
      ]
     },
     "execution_count": 27,
     "metadata": {},
     "output_type": "execute_result"
    }
   ],
   "source": [
    "dataset"
   ]
  },
  {
   "cell_type": "code",
   "execution_count": 28,
   "metadata": {},
   "outputs": [],
   "source": [
    "dataset.to_csv('final_dataset.csv', index=False)"
   ]
  },
  {
   "cell_type": "code",
   "execution_count": 29,
   "metadata": {},
   "outputs": [],
   "source": [
    "df = pd.read_csv('final_dataset.csv')"
   ]
  },
  {
   "cell_type": "code",
   "execution_count": 30,
   "metadata": {},
   "outputs": [
    {
     "data": {
      "text/html": [
       "<div>\n",
       "<style scoped>\n",
       "    .dataframe tbody tr th:only-of-type {\n",
       "        vertical-align: middle;\n",
       "    }\n",
       "\n",
       "    .dataframe tbody tr th {\n",
       "        vertical-align: top;\n",
       "    }\n",
       "\n",
       "    .dataframe thead th {\n",
       "        text-align: right;\n",
       "    }\n",
       "</style>\n",
       "<table border=\"1\" class=\"dataframe\">\n",
       "  <thead>\n",
       "    <tr style=\"text-align: right;\">\n",
       "      <th></th>\n",
       "      <th>aayah</th>\n",
       "      <th>audio_paths</th>\n",
       "    </tr>\n",
       "  </thead>\n",
       "  <tbody>\n",
       "    <tr>\n",
       "      <th>0</th>\n",
       "      <td>بِسْمِ اللَّهِ الرَّحْمَٰنِ الرَّحِيمِ</td>\n",
       "      <td>data\\bismillah\\Abdullaah_3awwaad_Al-Juhaynee_1...</td>\n",
       "    </tr>\n",
       "    <tr>\n",
       "      <th>1</th>\n",
       "      <td>الْحَمْدُ لِلَّهِ رَبِّ الْعَالَمِينَ</td>\n",
       "      <td>data\\bismillah\\Abdullaah_3awwaad_Al-Juhaynee_1...</td>\n",
       "    </tr>\n",
       "    <tr>\n",
       "      <th>2</th>\n",
       "      <td>الرَّحْمَٰنِ الرَّحِيمِ</td>\n",
       "      <td>data\\bismillah\\Abdullaah_3awwaad_Al-Juhaynee_1...</td>\n",
       "    </tr>\n",
       "    <tr>\n",
       "      <th>3</th>\n",
       "      <td>مَالِكِ يَوْمِ الدِّينِ</td>\n",
       "      <td>data\\bismillah\\Abdullaah_3awwaad_Al-Juhaynee_1...</td>\n",
       "    </tr>\n",
       "    <tr>\n",
       "      <th>4</th>\n",
       "      <td>إِيَّاكَ نَعْبُدُ وَإِيَّاكَ نَسْتَعِينُ</td>\n",
       "      <td>data\\bismillah\\Abdullaah_3awwaad_Al-Juhaynee_1...</td>\n",
       "    </tr>\n",
       "    <tr>\n",
       "      <th>...</th>\n",
       "      <td>...</td>\n",
       "      <td>...</td>\n",
       "    </tr>\n",
       "    <tr>\n",
       "      <th>150310</th>\n",
       "      <td>وَلَقَدِ اسْتُهْزِئَ بِرُسُلٍ مِنْ قَبْلِكَ فَ...</td>\n",
       "      <td>data\\bismillah\\Yaser_Salamah_128kbps\\9_95.mp3</td>\n",
       "    </tr>\n",
       "    <tr>\n",
       "      <th>150311</th>\n",
       "      <td>قُلْ مَنْ يَكْلَؤُكُمْ بِاللَّيْلِ وَالنَّهَار...</td>\n",
       "      <td>data\\bismillah\\Yaser_Salamah_128kbps\\9_96.mp3</td>\n",
       "    </tr>\n",
       "    <tr>\n",
       "      <th>150312</th>\n",
       "      <td>أَمْ لَهُمْ آلِهَةٌ تَمْنَعُهُمْ مِنْ دُونِنَا...</td>\n",
       "      <td>data\\bismillah\\Yaser_Salamah_128kbps\\9_97.mp3</td>\n",
       "    </tr>\n",
       "    <tr>\n",
       "      <th>150313</th>\n",
       "      <td>بَلْ مَتَّعْنَا هَٰؤُلَاءِ وَآبَاءَهُمْ حَتَّى...</td>\n",
       "      <td>data\\bismillah\\Yaser_Salamah_128kbps\\9_98.mp3</td>\n",
       "    </tr>\n",
       "    <tr>\n",
       "      <th>150314</th>\n",
       "      <td>قُلْ إِنَّمَا أُنْذِرُكُمْ بِالْوَحْيِ ۚ وَلَا...</td>\n",
       "      <td>data\\bismillah\\Yaser_Salamah_128kbps\\9_99.mp3</td>\n",
       "    </tr>\n",
       "  </tbody>\n",
       "</table>\n",
       "<p>150315 rows × 2 columns</p>\n",
       "</div>"
      ],
      "text/plain": [
       "                                                    aayah  \\\n",
       "0                  بِسْمِ اللَّهِ الرَّحْمَٰنِ الرَّحِيمِ   \n",
       "1                   الْحَمْدُ لِلَّهِ رَبِّ الْعَالَمِينَ   \n",
       "2                                 الرَّحْمَٰنِ الرَّحِيمِ   \n",
       "3                                 مَالِكِ يَوْمِ الدِّينِ   \n",
       "4                إِيَّاكَ نَعْبُدُ وَإِيَّاكَ نَسْتَعِينُ   \n",
       "...                                                   ...   \n",
       "150310  وَلَقَدِ اسْتُهْزِئَ بِرُسُلٍ مِنْ قَبْلِكَ فَ...   \n",
       "150311  قُلْ مَنْ يَكْلَؤُكُمْ بِاللَّيْلِ وَالنَّهَار...   \n",
       "150312  أَمْ لَهُمْ آلِهَةٌ تَمْنَعُهُمْ مِنْ دُونِنَا...   \n",
       "150313  بَلْ مَتَّعْنَا هَٰؤُلَاءِ وَآبَاءَهُمْ حَتَّى...   \n",
       "150314  قُلْ إِنَّمَا أُنْذِرُكُمْ بِالْوَحْيِ ۚ وَلَا...   \n",
       "\n",
       "                                              audio_paths  \n",
       "0       data\\bismillah\\Abdullaah_3awwaad_Al-Juhaynee_1...  \n",
       "1       data\\bismillah\\Abdullaah_3awwaad_Al-Juhaynee_1...  \n",
       "2       data\\bismillah\\Abdullaah_3awwaad_Al-Juhaynee_1...  \n",
       "3       data\\bismillah\\Abdullaah_3awwaad_Al-Juhaynee_1...  \n",
       "4       data\\bismillah\\Abdullaah_3awwaad_Al-Juhaynee_1...  \n",
       "...                                                   ...  \n",
       "150310      data\\bismillah\\Yaser_Salamah_128kbps\\9_95.mp3  \n",
       "150311      data\\bismillah\\Yaser_Salamah_128kbps\\9_96.mp3  \n",
       "150312      data\\bismillah\\Yaser_Salamah_128kbps\\9_97.mp3  \n",
       "150313      data\\bismillah\\Yaser_Salamah_128kbps\\9_98.mp3  \n",
       "150314      data\\bismillah\\Yaser_Salamah_128kbps\\9_99.mp3  \n",
       "\n",
       "[150315 rows x 2 columns]"
      ]
     },
     "execution_count": 30,
     "metadata": {},
     "output_type": "execute_result"
    }
   ],
   "source": [
    "df"
   ]
  },
  {
   "cell_type": "code",
   "execution_count": 11,
   "metadata": {},
   "outputs": [
    {
     "data": {
      "text/html": [
       "<div>\n",
       "<style scoped>\n",
       "    .dataframe tbody tr th:only-of-type {\n",
       "        vertical-align: middle;\n",
       "    }\n",
       "\n",
       "    .dataframe tbody tr th {\n",
       "        vertical-align: top;\n",
       "    }\n",
       "\n",
       "    .dataframe thead th {\n",
       "        text-align: right;\n",
       "    }\n",
       "</style>\n",
       "<table border=\"1\" class=\"dataframe\">\n",
       "  <thead>\n",
       "    <tr style=\"text-align: right;\">\n",
       "      <th></th>\n",
       "      <th>surah_number</th>\n",
       "      <th>aayah_number</th>\n",
       "      <th>aayah</th>\n",
       "    </tr>\n",
       "  </thead>\n",
       "  <tbody>\n",
       "    <tr>\n",
       "      <th>0</th>\n",
       "      <td>1</td>\n",
       "      <td>1</td>\n",
       "      <td>بِسْمِ اللَّهِ الرَّحْمَٰنِ الرَّحِيمِ</td>\n",
       "    </tr>\n",
       "    <tr>\n",
       "      <th>1</th>\n",
       "      <td>1</td>\n",
       "      <td>2</td>\n",
       "      <td>الْحَمْدُ لِلَّهِ رَبِّ الْعَالَمِينَ</td>\n",
       "    </tr>\n",
       "    <tr>\n",
       "      <th>2</th>\n",
       "      <td>1</td>\n",
       "      <td>3</td>\n",
       "      <td>الرَّحْمَٰنِ الرَّحِيمِ</td>\n",
       "    </tr>\n",
       "    <tr>\n",
       "      <th>3</th>\n",
       "      <td>1</td>\n",
       "      <td>4</td>\n",
       "      <td>مَالِكِ يَوْمِ الدِّينِ</td>\n",
       "    </tr>\n",
       "    <tr>\n",
       "      <th>4</th>\n",
       "      <td>1</td>\n",
       "      <td>5</td>\n",
       "      <td>إِيَّاكَ نَعْبُدُ وَإِيَّاكَ نَسْتَعِينُ</td>\n",
       "    </tr>\n",
       "    <tr>\n",
       "      <th>...</th>\n",
       "      <td>...</td>\n",
       "      <td>...</td>\n",
       "      <td>...</td>\n",
       "    </tr>\n",
       "    <tr>\n",
       "      <th>6231</th>\n",
       "      <td>114</td>\n",
       "      <td>2</td>\n",
       "      <td>مَلِكِ النَّاسِ</td>\n",
       "    </tr>\n",
       "    <tr>\n",
       "      <th>6232</th>\n",
       "      <td>114</td>\n",
       "      <td>3</td>\n",
       "      <td>إِلَٰهِ النَّاسِ</td>\n",
       "    </tr>\n",
       "    <tr>\n",
       "      <th>6233</th>\n",
       "      <td>114</td>\n",
       "      <td>4</td>\n",
       "      <td>مِنْ شَرِّ الْوَسْوَاسِ الْخَنَّاسِ</td>\n",
       "    </tr>\n",
       "    <tr>\n",
       "      <th>6234</th>\n",
       "      <td>114</td>\n",
       "      <td>5</td>\n",
       "      <td>الَّذِي يُوَسْوِسُ فِي صُدُورِ النَّاسِ</td>\n",
       "    </tr>\n",
       "    <tr>\n",
       "      <th>6235</th>\n",
       "      <td>114</td>\n",
       "      <td>6</td>\n",
       "      <td>مِنَ الْجِنَّةِ وَالنَّاسِ</td>\n",
       "    </tr>\n",
       "  </tbody>\n",
       "</table>\n",
       "<p>6236 rows × 3 columns</p>\n",
       "</div>"
      ],
      "text/plain": [
       "      surah_number  aayah_number                                     aayah\n",
       "0                1             1    بِسْمِ اللَّهِ الرَّحْمَٰنِ الرَّحِيمِ\n",
       "1                1             2     الْحَمْدُ لِلَّهِ رَبِّ الْعَالَمِينَ\n",
       "2                1             3                   الرَّحْمَٰنِ الرَّحِيمِ\n",
       "3                1             4                   مَالِكِ يَوْمِ الدِّينِ\n",
       "4                1             5  إِيَّاكَ نَعْبُدُ وَإِيَّاكَ نَسْتَعِينُ\n",
       "...            ...           ...                                       ...\n",
       "6231           114             2                           مَلِكِ النَّاسِ\n",
       "6232           114             3                          إِلَٰهِ النَّاسِ\n",
       "6233           114             4       مِنْ شَرِّ الْوَسْوَاسِ الْخَنَّاسِ\n",
       "6234           114             5   الَّذِي يُوَسْوِسُ فِي صُدُورِ النَّاسِ\n",
       "6235           114             6                مِنَ الْجِنَّةِ وَالنَّاسِ\n",
       "\n",
       "[6236 rows x 3 columns]"
      ]
     },
     "execution_count": 11,
     "metadata": {},
     "output_type": "execute_result"
    }
   ],
   "source": [
    "import pandas as pd\n",
    "import glob\n",
    "import os\n",
    "\n",
    "df = pd.read_csv('Arabic-Original.csv', delimiter='|', header=None)\n",
    "df.columns = ['surah_number', 'aayah_number', 'aayah']\n",
    "#df.drop(['surah_number', 'aayah_number'], axis=1, inplace=True)\n",
    "df"
   ]
  },
  {
   "cell_type": "code",
   "execution_count": 12,
   "metadata": {},
   "outputs": [],
   "source": [
    "audio_files = glob.glob(f'data/bismillah/Abdul_Basit_Mujawwad_128kbps/*.mp3')"
   ]
  },
  {
   "cell_type": "code",
   "execution_count": 13,
   "metadata": {},
   "outputs": [
    {
     "data": {
      "text/html": [
       "<div>\n",
       "<style scoped>\n",
       "    .dataframe tbody tr th:only-of-type {\n",
       "        vertical-align: middle;\n",
       "    }\n",
       "\n",
       "    .dataframe tbody tr th {\n",
       "        vertical-align: top;\n",
       "    }\n",
       "\n",
       "    .dataframe thead th {\n",
       "        text-align: right;\n",
       "    }\n",
       "</style>\n",
       "<table border=\"1\" class=\"dataframe\">\n",
       "  <thead>\n",
       "    <tr style=\"text-align: right;\">\n",
       "      <th></th>\n",
       "      <th>path</th>\n",
       "    </tr>\n",
       "  </thead>\n",
       "  <tbody>\n",
       "    <tr>\n",
       "      <th>0</th>\n",
       "      <td>data/bismillah/Abdul_Basit_Mujawwad_128kbps\\1_...</td>\n",
       "    </tr>\n",
       "    <tr>\n",
       "      <th>1</th>\n",
       "      <td>data/bismillah/Abdul_Basit_Mujawwad_128kbps\\1_...</td>\n",
       "    </tr>\n",
       "    <tr>\n",
       "      <th>2</th>\n",
       "      <td>data/bismillah/Abdul_Basit_Mujawwad_128kbps\\1_...</td>\n",
       "    </tr>\n",
       "    <tr>\n",
       "      <th>3</th>\n",
       "      <td>data/bismillah/Abdul_Basit_Mujawwad_128kbps\\1_...</td>\n",
       "    </tr>\n",
       "    <tr>\n",
       "      <th>4</th>\n",
       "      <td>data/bismillah/Abdul_Basit_Mujawwad_128kbps\\1_...</td>\n",
       "    </tr>\n",
       "    <tr>\n",
       "      <th>5</th>\n",
       "      <td>data/bismillah/Abdul_Basit_Mujawwad_128kbps\\1_...</td>\n",
       "    </tr>\n",
       "    <tr>\n",
       "      <th>6</th>\n",
       "      <td>data/bismillah/Abdul_Basit_Mujawwad_128kbps\\1_...</td>\n",
       "    </tr>\n",
       "    <tr>\n",
       "      <th>7</th>\n",
       "      <td>data/bismillah/Abdul_Basit_Mujawwad_128kbps\\2_...</td>\n",
       "    </tr>\n",
       "    <tr>\n",
       "      <th>8</th>\n",
       "      <td>data/bismillah/Abdul_Basit_Mujawwad_128kbps\\2_...</td>\n",
       "    </tr>\n",
       "    <tr>\n",
       "      <th>9</th>\n",
       "      <td>data/bismillah/Abdul_Basit_Mujawwad_128kbps\\2_...</td>\n",
       "    </tr>\n",
       "  </tbody>\n",
       "</table>\n",
       "</div>"
      ],
      "text/plain": [
       "                                                path\n",
       "0  data/bismillah/Abdul_Basit_Mujawwad_128kbps\\1_...\n",
       "1  data/bismillah/Abdul_Basit_Mujawwad_128kbps\\1_...\n",
       "2  data/bismillah/Abdul_Basit_Mujawwad_128kbps\\1_...\n",
       "3  data/bismillah/Abdul_Basit_Mujawwad_128kbps\\1_...\n",
       "4  data/bismillah/Abdul_Basit_Mujawwad_128kbps\\1_...\n",
       "5  data/bismillah/Abdul_Basit_Mujawwad_128kbps\\1_...\n",
       "6  data/bismillah/Abdul_Basit_Mujawwad_128kbps\\1_...\n",
       "7  data/bismillah/Abdul_Basit_Mujawwad_128kbps\\2_...\n",
       "8  data/bismillah/Abdul_Basit_Mujawwad_128kbps\\2_...\n",
       "9  data/bismillah/Abdul_Basit_Mujawwad_128kbps\\2_..."
      ]
     },
     "execution_count": 13,
     "metadata": {},
     "output_type": "execute_result"
    }
   ],
   "source": [
    "df_2 = pd.DataFrame({'path' : audio_files})\n",
    "df_2.head(10)"
   ]
  },
  {
   "cell_type": "code",
   "execution_count": 16,
   "metadata": {},
   "outputs": [
    {
     "data": {
      "text/html": [
       "<div>\n",
       "<style scoped>\n",
       "    .dataframe tbody tr th:only-of-type {\n",
       "        vertical-align: middle;\n",
       "    }\n",
       "\n",
       "    .dataframe tbody tr th {\n",
       "        vertical-align: top;\n",
       "    }\n",
       "\n",
       "    .dataframe thead th {\n",
       "        text-align: right;\n",
       "    }\n",
       "</style>\n",
       "<table border=\"1\" class=\"dataframe\">\n",
       "  <thead>\n",
       "    <tr style=\"text-align: right;\">\n",
       "      <th></th>\n",
       "      <th>surah_number</th>\n",
       "      <th>aayah_number</th>\n",
       "      <th>path</th>\n",
       "    </tr>\n",
       "  </thead>\n",
       "  <tbody>\n",
       "    <tr>\n",
       "      <th>0</th>\n",
       "      <td>1</td>\n",
       "      <td>1</td>\n",
       "      <td>data/bismillah/Abdul_Basit_Mujawwad_128kbps\\1_...</td>\n",
       "    </tr>\n",
       "    <tr>\n",
       "      <th>1</th>\n",
       "      <td>1</td>\n",
       "      <td>2</td>\n",
       "      <td>data/bismillah/Abdul_Basit_Mujawwad_128kbps\\1_...</td>\n",
       "    </tr>\n",
       "    <tr>\n",
       "      <th>2</th>\n",
       "      <td>1</td>\n",
       "      <td>3</td>\n",
       "      <td>data/bismillah/Abdul_Basit_Mujawwad_128kbps\\1_...</td>\n",
       "    </tr>\n",
       "    <tr>\n",
       "      <th>3</th>\n",
       "      <td>1</td>\n",
       "      <td>4</td>\n",
       "      <td>data/bismillah/Abdul_Basit_Mujawwad_128kbps\\1_...</td>\n",
       "    </tr>\n",
       "    <tr>\n",
       "      <th>4</th>\n",
       "      <td>1</td>\n",
       "      <td>5</td>\n",
       "      <td>data/bismillah/Abdul_Basit_Mujawwad_128kbps\\1_...</td>\n",
       "    </tr>\n",
       "  </tbody>\n",
       "</table>\n",
       "</div>"
      ],
      "text/plain": [
       "   surah_number  aayah_number  \\\n",
       "0             1             1   \n",
       "1             1             2   \n",
       "2             1             3   \n",
       "3             1             4   \n",
       "4             1             5   \n",
       "\n",
       "                                                path  \n",
       "0  data/bismillah/Abdul_Basit_Mujawwad_128kbps\\1_...  \n",
       "1  data/bismillah/Abdul_Basit_Mujawwad_128kbps\\1_...  \n",
       "2  data/bismillah/Abdul_Basit_Mujawwad_128kbps\\1_...  \n",
       "3  data/bismillah/Abdul_Basit_Mujawwad_128kbps\\1_...  \n",
       "4  data/bismillah/Abdul_Basit_Mujawwad_128kbps\\1_...  "
      ]
     },
     "execution_count": 16,
     "metadata": {},
     "output_type": "execute_result"
    }
   ],
   "source": [
    "df_path = (\n",
    "    df_2['path'].str.rsplit('\\\\', n=1, expand=True)[1]\n",
    "    .str.replace('.mp3', '')\n",
    "    .str.split('_', expand=True)\n",
    "    .rename(columns={0: 'surah_number', 1: 'aayah_number'})\n",
    "    .astype({\"surah_number\":\"int\",\"aayah_number\":\"int\"})\n",
    ")\n",
    "df_path['path'] = df_2['path'] \n",
    "df_path.head(5)"
   ]
  },
  {
   "cell_type": "code",
   "execution_count": 18,
   "metadata": {},
   "outputs": [
    {
     "data": {
      "text/html": [
       "<div>\n",
       "<style scoped>\n",
       "    .dataframe tbody tr th:only-of-type {\n",
       "        vertical-align: middle;\n",
       "    }\n",
       "\n",
       "    .dataframe tbody tr th {\n",
       "        vertical-align: top;\n",
       "    }\n",
       "\n",
       "    .dataframe thead th {\n",
       "        text-align: right;\n",
       "    }\n",
       "</style>\n",
       "<table border=\"1\" class=\"dataframe\">\n",
       "  <thead>\n",
       "    <tr style=\"text-align: right;\">\n",
       "      <th></th>\n",
       "      <th>aayah</th>\n",
       "      <th>path</th>\n",
       "    </tr>\n",
       "  </thead>\n",
       "  <tbody>\n",
       "    <tr>\n",
       "      <th>0</th>\n",
       "      <td>بِسْمِ اللَّهِ الرَّحْمَٰنِ الرَّحِيمِ</td>\n",
       "      <td>data/bismillah/Abdul_Basit_Mujawwad_128kbps\\1_...</td>\n",
       "    </tr>\n",
       "    <tr>\n",
       "      <th>1</th>\n",
       "      <td>الْحَمْدُ لِلَّهِ رَبِّ الْعَالَمِينَ</td>\n",
       "      <td>data/bismillah/Abdul_Basit_Mujawwad_128kbps\\1_...</td>\n",
       "    </tr>\n",
       "    <tr>\n",
       "      <th>2</th>\n",
       "      <td>الرَّحْمَٰنِ الرَّحِيمِ</td>\n",
       "      <td>data/bismillah/Abdul_Basit_Mujawwad_128kbps\\1_...</td>\n",
       "    </tr>\n",
       "    <tr>\n",
       "      <th>3</th>\n",
       "      <td>مَالِكِ يَوْمِ الدِّينِ</td>\n",
       "      <td>data/bismillah/Abdul_Basit_Mujawwad_128kbps\\1_...</td>\n",
       "    </tr>\n",
       "    <tr>\n",
       "      <th>4</th>\n",
       "      <td>إِيَّاكَ نَعْبُدُ وَإِيَّاكَ نَسْتَعِينُ</td>\n",
       "      <td>data/bismillah/Abdul_Basit_Mujawwad_128kbps\\1_...</td>\n",
       "    </tr>\n",
       "    <tr>\n",
       "      <th>...</th>\n",
       "      <td>...</td>\n",
       "      <td>...</td>\n",
       "    </tr>\n",
       "    <tr>\n",
       "      <th>1117</th>\n",
       "      <td>وَإِذْ قَالَتْ أُمَّةٌ مِنْهُمْ لِمَ تَعِظُونَ...</td>\n",
       "      <td>data/bismillah/Abdul_Basit_Mujawwad_128kbps\\7_...</td>\n",
       "    </tr>\n",
       "    <tr>\n",
       "      <th>1118</th>\n",
       "      <td>فَلَمَّا نَسُوا مَا ذُكِّرُوا بِهِ أَنْجَيْنَا...</td>\n",
       "      <td>data/bismillah/Abdul_Basit_Mujawwad_128kbps\\7_...</td>\n",
       "    </tr>\n",
       "    <tr>\n",
       "      <th>1119</th>\n",
       "      <td>فَلَمَّا عَتَوْا عَنْ مَا نُهُوا عَنْهُ قُلْنَ...</td>\n",
       "      <td>data/bismillah/Abdul_Basit_Mujawwad_128kbps\\7_...</td>\n",
       "    </tr>\n",
       "    <tr>\n",
       "      <th>1120</th>\n",
       "      <td>وَإِذْ تَأَذَّنَ رَبُّكَ لَيَبْعَثَنَّ عَلَيْه...</td>\n",
       "      <td>data/bismillah/Abdul_Basit_Mujawwad_128kbps\\7_...</td>\n",
       "    </tr>\n",
       "    <tr>\n",
       "      <th>1121</th>\n",
       "      <td>وَقَطَّعْنَاهُمْ فِي الْأَرْضِ أُمَمًا ۖ مِنْه...</td>\n",
       "      <td>data/bismillah/Abdul_Basit_Mujawwad_128kbps\\7_...</td>\n",
       "    </tr>\n",
       "  </tbody>\n",
       "</table>\n",
       "<p>1122 rows × 2 columns</p>\n",
       "</div>"
      ],
      "text/plain": [
       "                                                  aayah  \\\n",
       "0                بِسْمِ اللَّهِ الرَّحْمَٰنِ الرَّحِيمِ   \n",
       "1                 الْحَمْدُ لِلَّهِ رَبِّ الْعَالَمِينَ   \n",
       "2                               الرَّحْمَٰنِ الرَّحِيمِ   \n",
       "3                               مَالِكِ يَوْمِ الدِّينِ   \n",
       "4              إِيَّاكَ نَعْبُدُ وَإِيَّاكَ نَسْتَعِينُ   \n",
       "...                                                 ...   \n",
       "1117  وَإِذْ قَالَتْ أُمَّةٌ مِنْهُمْ لِمَ تَعِظُونَ...   \n",
       "1118  فَلَمَّا نَسُوا مَا ذُكِّرُوا بِهِ أَنْجَيْنَا...   \n",
       "1119  فَلَمَّا عَتَوْا عَنْ مَا نُهُوا عَنْهُ قُلْنَ...   \n",
       "1120  وَإِذْ تَأَذَّنَ رَبُّكَ لَيَبْعَثَنَّ عَلَيْه...   \n",
       "1121  وَقَطَّعْنَاهُمْ فِي الْأَرْضِ أُمَمًا ۖ مِنْه...   \n",
       "\n",
       "                                                   path  \n",
       "0     data/bismillah/Abdul_Basit_Mujawwad_128kbps\\1_...  \n",
       "1     data/bismillah/Abdul_Basit_Mujawwad_128kbps\\1_...  \n",
       "2     data/bismillah/Abdul_Basit_Mujawwad_128kbps\\1_...  \n",
       "3     data/bismillah/Abdul_Basit_Mujawwad_128kbps\\1_...  \n",
       "4     data/bismillah/Abdul_Basit_Mujawwad_128kbps\\1_...  \n",
       "...                                                 ...  \n",
       "1117  data/bismillah/Abdul_Basit_Mujawwad_128kbps\\7_...  \n",
       "1118  data/bismillah/Abdul_Basit_Mujawwad_128kbps\\7_...  \n",
       "1119  data/bismillah/Abdul_Basit_Mujawwad_128kbps\\7_...  \n",
       "1120  data/bismillah/Abdul_Basit_Mujawwad_128kbps\\7_...  \n",
       "1121  data/bismillah/Abdul_Basit_Mujawwad_128kbps\\7_...  \n",
       "\n",
       "[1122 rows x 2 columns]"
      ]
     },
     "execution_count": 18,
     "metadata": {},
     "output_type": "execute_result"
    }
   ],
   "source": [
    "pd.merge(df, df_path, on=[\"surah_number\", \"aayah_number\"]).drop(columns=['surah_number', 'aayah_number'])"
   ]
  },
  {
   "cell_type": "code",
   "execution_count": null,
   "metadata": {},
   "outputs": [],
   "source": []
  }
 ],
 "metadata": {
  "kernelspec": {
   "display_name": ".venv",
   "language": "python",
   "name": "python3"
  },
  "language_info": {
   "codemirror_mode": {
    "name": "ipython",
    "version": 3
   },
   "file_extension": ".py",
   "mimetype": "text/x-python",
   "name": "python",
   "nbconvert_exporter": "python",
   "pygments_lexer": "ipython3",
   "version": "3.10.11"
  },
  "orig_nbformat": 4
 },
 "nbformat": 4,
 "nbformat_minor": 2
}
