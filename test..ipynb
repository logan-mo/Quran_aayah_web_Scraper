{
 "cells": [
  {
   "cell_type": "markdown",
   "metadata": {},
   "source": [
    "# PAndas preprocessing"
   ]
  },
  {
   "cell_type": "code",
   "execution_count": null,
   "metadata": {},
   "outputs": [],
   "source": [
    "import pandas as pd"
   ]
  },
  {
   "cell_type": "code",
   "execution_count": null,
   "metadata": {},
   "outputs": [],
   "source": [
    "df =  pd.read_html('https://en.wikipedia.org/wiki/List_of_chapters_in_the_Quran')\n",
    "df = df[0]"
   ]
  },
  {
   "cell_type": "code",
   "execution_count": null,
   "metadata": {},
   "outputs": [],
   "source": [
    "df.columns"
   ]
  },
  {
   "cell_type": "code",
   "execution_count": null,
   "metadata": {},
   "outputs": [],
   "source": [
    "df2 = df[['Anglicized title(s)', 'Number of verses (Number of Rukūʿs)']]"
   ]
  },
  {
   "cell_type": "code",
   "execution_count": null,
   "metadata": {},
   "outputs": [],
   "source": [
    "df2"
   ]
  },
  {
   "cell_type": "code",
   "execution_count": null,
   "metadata": {},
   "outputs": [],
   "source": [
    "df2['Number of verses (Number of Rukūʿs)'] = df2['Number of verses (Number of Rukūʿs)'].str.split(' ', expand=True)[0]"
   ]
  },
  {
   "cell_type": "code",
   "execution_count": null,
   "metadata": {},
   "outputs": [],
   "source": [
    "df2"
   ]
  },
  {
   "cell_type": "code",
   "execution_count": null,
   "metadata": {},
   "outputs": [],
   "source": [
    "df2.to_csv('surah_aayah_count.csv', index=False)"
   ]
  },
  {
   "cell_type": "markdown",
   "metadata": {},
   "source": [
    "# Scraping tests"
   ]
  },
  {
   "cell_type": "code",
   "execution_count": 1,
   "metadata": {},
   "outputs": [],
   "source": [
    "import pandas as pd\n",
    "import numpy as np\n",
    "import requests\n",
    "import os"
   ]
  },
  {
   "cell_type": "code",
   "execution_count": 2,
   "metadata": {},
   "outputs": [],
   "source": [
    "surah_df = pd.read_csv('surah_aayah_count.csv').dropna()\n",
    "\n",
    "def generate_dateset(imam):\n",
    "    output_dir = 'data'\n",
    "    if not os.path.exists(output_dir):\n",
    "        os.mkdir(output_dir)\n",
    "    output_dir = os.path.join(output_dir, imam)\n",
    "    if not os.path.exists(output_dir):\n",
    "        os.mkdir(output_dir)\n",
    "\n",
    "    for surah_index in range(0, 113):\n",
    "        for aayah_number in range(1, int(surah_df.iloc[surah_index]['Number of verses (Number of Rukūʿs)'] + 1)):\n",
    "            file_name = f'{str(surah_index+1).zfill(3)}{str(aayah_number).zfill(3)}'\n",
    "            url = f\"https://everyayah.com/data/{imam}/{file_name}.mp3\"\n",
    "\n",
    "            out_file_path = os.path.join(output_dir, f'{surah_index+1}_{aayah_number}.mp3')\n",
    "            if os.path.exists(out_file_path):\n",
    "                continue\n",
    "            doc = requests.get(url)\n",
    "\n",
    "            if doc.status_code == 200:\n",
    "                print(f'{surah_index+1}_{aayah_number}.mp3')\n",
    "                with open(out_file_path, 'wb') as f:\n",
    "                    f.write(doc.content)\n",
    "            else:\n",
    "                raise Exception(f'Error: {doc.status_code} for {url}')"
   ]
  },
  {
   "cell_type": "code",
   "execution_count": 3,
   "metadata": {},
   "outputs": [],
   "source": [
    "imam_df = pd.read_csv('audiocats.csv')\n",
    "df_chunks = np.array_split(imam_df, 10)"
   ]
  },
  {
   "cell_type": "code",
   "execution_count": 5,
   "metadata": {},
   "outputs": [
    {
     "data": {
      "text/plain": [
       "[                                    imam\n",
       " 0           Abdul_Basit_Mujawwad_128kbps\n",
       " 1    AbdulSamad_64kbps_QuranExplorer.Com\n",
       " 2           Abdul_Basit_Murattal_192kbps\n",
       " 3  Abdullaah_3awwaad_Al-Juhaynee_128kbps\n",
       " 4                Abdullah_Basfar_192kbps,\n",
       "                                             imam\n",
       " 5                       Abdullah_Matroud_128kbps\n",
       " 6                 Abdurrahmaan_As-Sudais_192kbps\n",
       " 7                  Abu_Bakr_Ash-Shaatree_128kbps\n",
       " 8                            Ahmed_Neana_128kbps\n",
       " 9  Ahmed_ibn_Ali_al-Ajamy_128kbps_ketaballah.net,\n",
       "                           imam\n",
       " 10     Akram_AlAlaqimy_128kbps\n",
       " 11             Alafasy_128kbps\n",
       " 12  Ali_Hajjaj_AlSuesy_128kbps\n",
       " 13            Ali_Jaber_64kbps\n",
       " 14         Ayman_Sowaid_64kbps,\n",
       "                                         imam\n",
       " 15  English/Sahih_Intnl_Ibrahim_Walk_192kbps\n",
       " 16                        Fares_Abbad_64kbps\n",
       " 17                            Ghamadi_40kbps\n",
       " 18                        Hani_Rifai_192kbps\n",
       " 19                          Hudhaify_128kbps,\n",
       "                        imam\n",
       " 20           Husary_128kbps\n",
       " 21  Husary_128kbps_Mujawwad\n",
       " 22   Husary_Muallim_128kbps\n",
       " 23    Ibrahim_Akhdar_64kbps\n",
       " 24    Karim_Mansoori_40kbps,\n",
       "                                       imam\n",
       " 25  Khaalid_Abdullaah_al-Qahtaanee_192kbps\n",
       " 26                   MaherAlMuaiqly128kbps\n",
       " 27                  Maher_AlMuaiqly_64kbps\n",
       " 28                         Menshawi_16kbps\n",
       " 29               Minshawy_Mujawwad_192kbps,\n",
       "                             imam\n",
       " 30     Minshawy_Murattal_128kbps\n",
       " 31  Mohammad_al_Tablaway_128kbps\n",
       " 32  Muhammad_AbdulKareem_128kbps\n",
       " 33       Muhammad_Ayyoub_128kbps\n",
       " 34      Muhammad_Jibreel_128kbps,\n",
       "                                  imam\n",
       " 35            Muhsin_Al_Qasim_192kbps\n",
       " 36  MultiLanguage/Basfar_Walk_192kbps\n",
       " 37              Mustafa_Ismail_48kbps\n",
       " 38                Nabil_Rifa3i_48kbps\n",
       " 39            Nasser_Alqatami_128kbps,\n",
       "                                    imam\n",
       " 40                     Parhizgar_48kbps\n",
       " 41                  Sahl_Yassin_128kbps\n",
       " 42  Salaah_AbdulRahman_Bukhatir_128kbps\n",
       " 43              Salah_Al_Budair_128kbps,\n",
       "                               imam\n",
       " 44                 Shuraym_128kbps\n",
       " 45           Yaser_Salamah_128kbps\n",
       " 46                 Dussary_128kbps\n",
       " 47  ahmed_ibn_ali_al_ajamy_128kbps]"
      ]
     },
     "execution_count": 5,
     "metadata": {},
     "output_type": "execute_result"
    }
   ],
   "source": [
    "df_chunks"
   ]
  },
  {
   "cell_type": "code",
   "execution_count": 6,
   "metadata": {},
   "outputs": [],
   "source": [
    "def generate_dataset_parallel(df):\n",
    "    for imam in df['imam'].unique():\n",
    "        generate_dateset(imam)"
   ]
  },
  {
   "cell_type": "code",
   "execution_count": 7,
   "metadata": {},
   "outputs": [
    {
     "ename": "",
     "evalue": "",
     "output_type": "error",
     "traceback": [
      "\u001b[1;31mCannot execute code, session has been disposed. Please try restarting the Kernel."
     ]
    },
    {
     "ename": "",
     "evalue": "",
     "output_type": "error",
     "traceback": [
      "\u001b[1;31mThe Kernel crashed while executing code in the the current cell or a previous cell. Please review the code in the cell(s) to identify a possible cause of the failure. Click <a href='https://aka.ms/vscodeJupyterKernelCrash'>here</a> for more info. View Jupyter <a href='command:jupyter.viewOutput'>log</a> for further details."
     ]
    }
   ],
   "source": [
    "from multiprocessing import Pool\n",
    "\n",
    "with Pool(8) as p:\n",
    "    print(p.map(generate_dataset_parallel, df_chunks))"
   ]
  },
  {
   "cell_type": "code",
   "execution_count": null,
   "metadata": {},
   "outputs": [],
   "source": []
  }
 ],
 "metadata": {
  "kernelspec": {
   "display_name": ".venv",
   "language": "python",
   "name": "python3"
  },
  "language_info": {
   "codemirror_mode": {
    "name": "ipython",
    "version": 3
   },
   "file_extension": ".py",
   "mimetype": "text/x-python",
   "name": "python",
   "nbconvert_exporter": "python",
   "pygments_lexer": "ipython3",
   "version": "3.10.11"
  },
  "orig_nbformat": 4
 },
 "nbformat": 4,
 "nbformat_minor": 2
}
