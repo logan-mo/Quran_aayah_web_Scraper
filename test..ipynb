{
 "cells": [
  {
   "cell_type": "markdown",
   "metadata": {},
   "source": [
    "# PAndas preprocessing"
   ]
  },
  {
   "cell_type": "code",
   "execution_count": 1,
   "metadata": {},
   "outputs": [],
   "source": [
    "import pandas as pd"
   ]
  },
  {
   "cell_type": "code",
   "execution_count": 5,
   "metadata": {},
   "outputs": [],
   "source": [
    "df =  pd.read_html('https://en.wikipedia.org/wiki/List_of_chapters_in_the_Quran')\n",
    "df = df[0]"
   ]
  },
  {
   "cell_type": "code",
   "execution_count": 6,
   "metadata": {},
   "outputs": [
    {
     "data": {
      "text/plain": [
       "Index(['#', 'Anglicized title(s)', 'Arabic title(s)', 'English title(s)',\n",
       "       'Number of verses (Number of Rukūʿs)', 'Place of Revelation',\n",
       "       'Egyptian Standard Chronological Order[6][7][8]',\n",
       "       'Nöldeke's Chronological Order[6]', 'Muqatta'at (isolated letters)[4]',\n",
       "       'Title refers to', 'Main theme(s)', 'Juz''],\n",
       "      dtype='object')"
      ]
     },
     "execution_count": 6,
     "metadata": {},
     "output_type": "execute_result"
    }
   ],
   "source": [
    "df.columns"
   ]
  },
  {
   "cell_type": "code",
   "execution_count": 7,
   "metadata": {},
   "outputs": [],
   "source": [
    "df2 = df[['Anglicized title(s)', 'Number of verses (Number of Rukūʿs)']]"
   ]
  },
  {
   "cell_type": "code",
   "execution_count": 8,
   "metadata": {},
   "outputs": [
    {
     "data": {
      "text/html": [
       "<div>\n",
       "<style scoped>\n",
       "    .dataframe tbody tr th:only-of-type {\n",
       "        vertical-align: middle;\n",
       "    }\n",
       "\n",
       "    .dataframe tbody tr th {\n",
       "        vertical-align: top;\n",
       "    }\n",
       "\n",
       "    .dataframe thead th {\n",
       "        text-align: right;\n",
       "    }\n",
       "</style>\n",
       "<table border=\"1\" class=\"dataframe\">\n",
       "  <thead>\n",
       "    <tr style=\"text-align: right;\">\n",
       "      <th></th>\n",
       "      <th>Anglicized title(s)</th>\n",
       "      <th>Number of verses (Number of Rukūʿs)</th>\n",
       "    </tr>\n",
       "  </thead>\n",
       "  <tbody>\n",
       "    <tr>\n",
       "      <th>0</th>\n",
       "      <td>Al-Fatihah</td>\n",
       "      <td>7 (1)</td>\n",
       "    </tr>\n",
       "    <tr>\n",
       "      <th>1</th>\n",
       "      <td>Al-Baqarah</td>\n",
       "      <td>286 (40)</td>\n",
       "    </tr>\n",
       "    <tr>\n",
       "      <th>2</th>\n",
       "      <td>Aali 'Imran</td>\n",
       "      <td>200 (20)</td>\n",
       "    </tr>\n",
       "    <tr>\n",
       "      <th>3</th>\n",
       "      <td>An-Nisa</td>\n",
       "      <td>176 (24)</td>\n",
       "    </tr>\n",
       "    <tr>\n",
       "      <th>4</th>\n",
       "      <td>Al-Ma'idah</td>\n",
       "      <td>120 (16)</td>\n",
       "    </tr>\n",
       "    <tr>\n",
       "      <th>...</th>\n",
       "      <td>...</td>\n",
       "      <td>...</td>\n",
       "    </tr>\n",
       "    <tr>\n",
       "      <th>110</th>\n",
       "      <td>Al-Masad</td>\n",
       "      <td>5 (1/3)</td>\n",
       "    </tr>\n",
       "    <tr>\n",
       "      <th>111</th>\n",
       "      <td>Al-Ikhlas</td>\n",
       "      <td>4 (1/3)</td>\n",
       "    </tr>\n",
       "    <tr>\n",
       "      <th>112</th>\n",
       "      <td>Al-Falaq</td>\n",
       "      <td>5 (1/3)</td>\n",
       "    </tr>\n",
       "    <tr>\n",
       "      <th>113</th>\n",
       "      <td>An-Naas</td>\n",
       "      <td>6 (1/3)</td>\n",
       "    </tr>\n",
       "    <tr>\n",
       "      <th>114</th>\n",
       "      <td>NaN</td>\n",
       "      <td>NaN</td>\n",
       "    </tr>\n",
       "  </tbody>\n",
       "</table>\n",
       "<p>115 rows × 2 columns</p>\n",
       "</div>"
      ],
      "text/plain": [
       "    Anglicized title(s) Number of verses (Number of Rukūʿs)\n",
       "0            Al-Fatihah                               7 (1)\n",
       "1            Al-Baqarah                            286 (40)\n",
       "2           Aali 'Imran                            200 (20)\n",
       "3               An-Nisa                            176 (24)\n",
       "4            Al-Ma'idah                            120 (16)\n",
       "..                  ...                                 ...\n",
       "110            Al-Masad                             5 (1/3)\n",
       "111           Al-Ikhlas                             4 (1/3)\n",
       "112            Al-Falaq                             5 (1/3)\n",
       "113             An-Naas                             6 (1/3)\n",
       "114                 NaN                                 NaN\n",
       "\n",
       "[115 rows x 2 columns]"
      ]
     },
     "execution_count": 8,
     "metadata": {},
     "output_type": "execute_result"
    }
   ],
   "source": [
    "df2"
   ]
  },
  {
   "cell_type": "code",
   "execution_count": 9,
   "metadata": {},
   "outputs": [
    {
     "name": "stderr",
     "output_type": "stream",
     "text": [
      "C:\\Users\\Muhammad_Luqman\\AppData\\Local\\Temp\\ipykernel_4496\\2766427244.py:1: SettingWithCopyWarning: \n",
      "A value is trying to be set on a copy of a slice from a DataFrame.\n",
      "Try using .loc[row_indexer,col_indexer] = value instead\n",
      "\n",
      "See the caveats in the documentation: https://pandas.pydata.org/pandas-docs/stable/user_guide/indexing.html#returning-a-view-versus-a-copy\n",
      "  df2['Number of verses (Number of Rukūʿs)'] = df2['Number of verses (Number of Rukūʿs)'].str.split(' ', expand=True)[0]\n"
     ]
    }
   ],
   "source": [
    "df2['Number of verses (Number of Rukūʿs)'] = df2['Number of verses (Number of Rukūʿs)'].str.split(' ', expand=True)[0]"
   ]
  },
  {
   "cell_type": "code",
   "execution_count": 10,
   "metadata": {},
   "outputs": [
    {
     "data": {
      "text/html": [
       "<div>\n",
       "<style scoped>\n",
       "    .dataframe tbody tr th:only-of-type {\n",
       "        vertical-align: middle;\n",
       "    }\n",
       "\n",
       "    .dataframe tbody tr th {\n",
       "        vertical-align: top;\n",
       "    }\n",
       "\n",
       "    .dataframe thead th {\n",
       "        text-align: right;\n",
       "    }\n",
       "</style>\n",
       "<table border=\"1\" class=\"dataframe\">\n",
       "  <thead>\n",
       "    <tr style=\"text-align: right;\">\n",
       "      <th></th>\n",
       "      <th>Anglicized title(s)</th>\n",
       "      <th>Number of verses (Number of Rukūʿs)</th>\n",
       "    </tr>\n",
       "  </thead>\n",
       "  <tbody>\n",
       "    <tr>\n",
       "      <th>0</th>\n",
       "      <td>Al-Fatihah</td>\n",
       "      <td>7</td>\n",
       "    </tr>\n",
       "    <tr>\n",
       "      <th>1</th>\n",
       "      <td>Al-Baqarah</td>\n",
       "      <td>286</td>\n",
       "    </tr>\n",
       "    <tr>\n",
       "      <th>2</th>\n",
       "      <td>Aali 'Imran</td>\n",
       "      <td>200</td>\n",
       "    </tr>\n",
       "    <tr>\n",
       "      <th>3</th>\n",
       "      <td>An-Nisa</td>\n",
       "      <td>176</td>\n",
       "    </tr>\n",
       "    <tr>\n",
       "      <th>4</th>\n",
       "      <td>Al-Ma'idah</td>\n",
       "      <td>120</td>\n",
       "    </tr>\n",
       "    <tr>\n",
       "      <th>...</th>\n",
       "      <td>...</td>\n",
       "      <td>...</td>\n",
       "    </tr>\n",
       "    <tr>\n",
       "      <th>110</th>\n",
       "      <td>Al-Masad</td>\n",
       "      <td>5</td>\n",
       "    </tr>\n",
       "    <tr>\n",
       "      <th>111</th>\n",
       "      <td>Al-Ikhlas</td>\n",
       "      <td>4</td>\n",
       "    </tr>\n",
       "    <tr>\n",
       "      <th>112</th>\n",
       "      <td>Al-Falaq</td>\n",
       "      <td>5</td>\n",
       "    </tr>\n",
       "    <tr>\n",
       "      <th>113</th>\n",
       "      <td>An-Naas</td>\n",
       "      <td>6</td>\n",
       "    </tr>\n",
       "    <tr>\n",
       "      <th>114</th>\n",
       "      <td>NaN</td>\n",
       "      <td>NaN</td>\n",
       "    </tr>\n",
       "  </tbody>\n",
       "</table>\n",
       "<p>115 rows × 2 columns</p>\n",
       "</div>"
      ],
      "text/plain": [
       "    Anglicized title(s) Number of verses (Number of Rukūʿs)\n",
       "0            Al-Fatihah                                   7\n",
       "1            Al-Baqarah                                 286\n",
       "2           Aali 'Imran                                 200\n",
       "3               An-Nisa                                 176\n",
       "4            Al-Ma'idah                                 120\n",
       "..                  ...                                 ...\n",
       "110            Al-Masad                                   5\n",
       "111           Al-Ikhlas                                   4\n",
       "112            Al-Falaq                                   5\n",
       "113             An-Naas                                   6\n",
       "114                 NaN                                 NaN\n",
       "\n",
       "[115 rows x 2 columns]"
      ]
     },
     "execution_count": 10,
     "metadata": {},
     "output_type": "execute_result"
    }
   ],
   "source": [
    "df2"
   ]
  },
  {
   "cell_type": "code",
   "execution_count": 11,
   "metadata": {},
   "outputs": [],
   "source": [
    "df2.to_csv('surah_aayah_count.csv', index=False)"
   ]
  },
  {
   "cell_type": "markdown",
   "metadata": {},
   "source": [
    "# Scraping tests"
   ]
  },
  {
   "cell_type": "code",
   "execution_count": 7,
   "metadata": {},
   "outputs": [],
   "source": [
    "import requests\n",
    "import numpy as np\n",
    "import pandas as pd\n",
    "import os"
   ]
  },
  {
   "cell_type": "code",
   "execution_count": 3,
   "metadata": {},
   "outputs": [],
   "source": [
    "surah_df = pd.read_csv('surah_aayah_count.csv').dropna()\n",
    "\n",
    "def generate_dateset(imam):\n",
    "    output_dir = 'data'\n",
    "    if not os.path.exists(output_dir):\n",
    "        os.mkdir(output_dir)\n",
    "    output_dir = os.path.join(output_dir, imam)\n",
    "    if not os.path.exists(output_dir):\n",
    "        os.mkdir(output_dir)\n",
    "\n",
    "    for surah_index in range(0, 113):\n",
    "        for aayah_number in range(1, int(surah_df.iloc[surah_index]['Number of verses (Number of Rukūʿs)'] + 1)):\n",
    "            file_name = f'{str(surah_index+1).zfill(3)}{str(aayah_number).zfill(3)}'\n",
    "            url = f\"https://everyayah.com/data/{imam}/{file_name}.mp3\"\n",
    "\n",
    "            out_file_path = os.path.join(output_dir, f'{surah_index+1}_{aayah_number}.mp3')\n",
    "            if os.path.exists(out_file_path):\n",
    "                continue\n",
    "            doc = requests.get(url)\n",
    "\n",
    "            if doc.status_code == 200:\n",
    "                print(f'{surah_index+1}_{aayah_number}.mp3')\n",
    "                with open(out_file_path, 'wb') as f:\n",
    "                    f.write(doc.content)\n",
    "            else:\n",
    "                raise Exception(f'Error: {doc.status_code} for {url}')"
   ]
  },
  {
   "cell_type": "code",
   "execution_count": 4,
   "metadata": {},
   "outputs": [],
   "source": [
    "imam_df = pd.read_csv('audiocats.csv')"
   ]
  },
  {
   "cell_type": "code",
   "execution_count": 10,
   "metadata": {},
   "outputs": [],
   "source": [
    "df_chunks = np.array_split(imam_df, 10)"
   ]
  },
  {
   "cell_type": "code",
   "execution_count": 11,
   "metadata": {},
   "outputs": [
    {
     "data": {
      "text/plain": [
       "[                                    imam\n",
       " 0           Abdul_Basit_Mujawwad_128kbps\n",
       " 1    AbdulSamad_64kbps_QuranExplorer.Com\n",
       " 2           Abdul_Basit_Murattal_192kbps\n",
       " 3            Abdul_Basit_Murattal_64kbps\n",
       " 4  Abdullaah_3awwaad_Al-Juhaynee_128kbps\n",
       " 5                Abdullah_Basfar_192kbps\n",
       " 6                 Abdullah_Basfar_32kbps\n",
       " 7                 Abdullah_Basfar_64kbps,\n",
       "                                                imam\n",
       " 8                          Abdullah_Matroud_128kbps\n",
       " 9                    Abdurrahmaan_As-Sudais_192kbps\n",
       " 10                    Abdurrahmaan_As-Sudais_64kbps\n",
       " 11                    Abu_Bakr_Ash-Shaatree_128kbps\n",
       " 12                     Abu_Bakr_Ash-Shaatree_64kbps\n",
       " 13                              Ahmed_Neana_128kbps\n",
       " 14    Ahmed_ibn_Ali_al-Ajamy_128kbps_ketaballah.net\n",
       " 15  Ahmed_ibn_Ali_al-Ajamy_64kbps_QuranExplorer.Com,\n",
       "                                         imam\n",
       " 16                   Akram_AlAlaqimy_128kbps\n",
       " 17                           Alafasy_128kbps\n",
       " 18                            Alafasy_64kbps\n",
       " 19                Ali_Hajjaj_AlSuesy_128kbps\n",
       " 20                          Ali_Jaber_64kbps\n",
       " 21                       Ayman_Sowaid_64kbps\n",
       " 22  English/Sahih_Intnl_Ibrahim_Walk_192kbps\n",
       " 23                        Fares_Abbad_64kbps,\n",
       "                        imam\n",
       " 24           Ghamadi_40kbps\n",
       " 25       Hani_Rifai_192kbps\n",
       " 26        Hani_Rifai_64kbps\n",
       " 27         Hudhaify_128kbps\n",
       " 28          Hudhaify_32kbps\n",
       " 29          Hudhaify_64kbps\n",
       " 30           Husary_128kbps\n",
       " 31  Husary_128kbps_Mujawwad,\n",
       "                                       imam\n",
       " 32                           Husary_64kbps\n",
       " 33                  Husary_Muallim_128kbps\n",
       " 34                  Husary_Mujawwad_64kbps\n",
       " 35                   Ibrahim_Akhdar_32kbps\n",
       " 36                   Ibrahim_Akhdar_64kbps\n",
       " 37                   Karim_Mansoori_40kbps\n",
       " 38  Khaalid_Abdullaah_al-Qahtaanee_192kbps\n",
       " 39                   MaherAlMuaiqly128kbps,\n",
       "                             imam\n",
       " 40        Maher_AlMuaiqly_64kbps\n",
       " 41               Menshawi_16kbps\n",
       " 42               Menshawi_32kbps\n",
       " 43     Minshawy_Mujawwad_192kbps\n",
       " 44      Minshawy_Mujawwad_64kbps\n",
       " 45     Minshawy_Murattal_128kbps\n",
       " 46  Mohammad_al_Tablaway_128kbps\n",
       " 47   Mohammad_al_Tablaway_64kbps,\n",
       "                                  imam\n",
       " 48       Muhammad_AbdulKareem_128kbps\n",
       " 49            Muhammad_Ayyoub_128kbps\n",
       " 50             Muhammad_Ayyoub_32kbps\n",
       " 51             Muhammad_Ayyoub_64kbps\n",
       " 52           Muhammad_Jibreel_128kbps\n",
       " 53            Muhammad_Jibreel_64kbps\n",
       " 54            Muhsin_Al_Qasim_192kbps\n",
       " 55  MultiLanguage/Basfar_Walk_192kbps,\n",
       "                                    imam\n",
       " 56                Mustafa_Ismail_48kbps\n",
       " 57                  Nabil_Rifa3i_48kbps\n",
       " 58              Nasser_Alqatami_128kbps\n",
       " 59                     Parhizgar_48kbps\n",
       " 60                  Sahl_Yassin_128kbps\n",
       " 61  Salaah_AbdulRahman_Bukhatir_128kbps\n",
       " 62              Salah_Al_Budair_128kbps\n",
       " 63                      Shuraym_128kbps,\n",
       "                                          imam\n",
       " 64                             Shuraym_64kbps\n",
       " 65                      Yaser_Salamah_128kbps\n",
       " 66                            Dussary_128kbps\n",
       " 67             ahmed_ibn_ali_al_ajamy_128kbps\n",
       " 68                         aziz_alili_128kbps\n",
       " 69                  khalefa_al_tunaiji_64kbps\n",
       " 70                mahmoud_ali_al_banna_32kbps\n",
       " 71  translations/Fooladvand_Hedayatfar_40Kbps,\n",
       "                                           imam\n",
       " 72          translations/Makarem_Kabiri_16Kbps\n",
       " 73            translations/azerbaijani/balayev\n",
       " 74      translations/besim_korkut_ajet_po_ajet\n",
       " 75             translations/urdu_farhat_hashmi\n",
       " 76  translations/urdu_shamshad_ali_khan_46kbps\n",
       " 77             warsh/warsh_Abdul_Basit_128kbps\n",
       " 78        warsh/warsh_ibrahim_aldosary_128kbps\n",
       " 79        warsh/warsh_yassin_al_jazaery_64kbps]"
      ]
     },
     "execution_count": 11,
     "metadata": {},
     "output_type": "execute_result"
    }
   ],
   "source": [
    "df_chunks"
   ]
  },
  {
   "cell_type": "code",
   "execution_count": 5,
   "metadata": {},
   "outputs": [
    {
     "data": {
      "text/html": [
       "<div>\n",
       "<style scoped>\n",
       "    .dataframe tbody tr th:only-of-type {\n",
       "        vertical-align: middle;\n",
       "    }\n",
       "\n",
       "    .dataframe tbody tr th {\n",
       "        vertical-align: top;\n",
       "    }\n",
       "\n",
       "    .dataframe thead th {\n",
       "        text-align: right;\n",
       "    }\n",
       "</style>\n",
       "<table border=\"1\" class=\"dataframe\">\n",
       "  <thead>\n",
       "    <tr style=\"text-align: right;\">\n",
       "      <th></th>\n",
       "      <th>imam</th>\n",
       "    </tr>\n",
       "  </thead>\n",
       "  <tbody>\n",
       "    <tr>\n",
       "      <th>0</th>\n",
       "      <td>Abdul_Basit_Mujawwad_128kbps</td>\n",
       "    </tr>\n",
       "    <tr>\n",
       "      <th>1</th>\n",
       "      <td>AbdulSamad_64kbps_QuranExplorer.Com</td>\n",
       "    </tr>\n",
       "    <tr>\n",
       "      <th>2</th>\n",
       "      <td>Abdul_Basit_Murattal_192kbps</td>\n",
       "    </tr>\n",
       "    <tr>\n",
       "      <th>3</th>\n",
       "      <td>Abdul_Basit_Murattal_64kbps</td>\n",
       "    </tr>\n",
       "    <tr>\n",
       "      <th>4</th>\n",
       "      <td>Abdullaah_3awwaad_Al-Juhaynee_128kbps</td>\n",
       "    </tr>\n",
       "    <tr>\n",
       "      <th>...</th>\n",
       "      <td>...</td>\n",
       "    </tr>\n",
       "    <tr>\n",
       "      <th>75</th>\n",
       "      <td>translations/urdu_farhat_hashmi</td>\n",
       "    </tr>\n",
       "    <tr>\n",
       "      <th>76</th>\n",
       "      <td>translations/urdu_shamshad_ali_khan_46kbps</td>\n",
       "    </tr>\n",
       "    <tr>\n",
       "      <th>77</th>\n",
       "      <td>warsh/warsh_Abdul_Basit_128kbps</td>\n",
       "    </tr>\n",
       "    <tr>\n",
       "      <th>78</th>\n",
       "      <td>warsh/warsh_ibrahim_aldosary_128kbps</td>\n",
       "    </tr>\n",
       "    <tr>\n",
       "      <th>79</th>\n",
       "      <td>warsh/warsh_yassin_al_jazaery_64kbps</td>\n",
       "    </tr>\n",
       "  </tbody>\n",
       "</table>\n",
       "<p>80 rows × 1 columns</p>\n",
       "</div>"
      ],
      "text/plain": [
       "                                          imam\n",
       "0                 Abdul_Basit_Mujawwad_128kbps\n",
       "1          AbdulSamad_64kbps_QuranExplorer.Com\n",
       "2                 Abdul_Basit_Murattal_192kbps\n",
       "3                  Abdul_Basit_Murattal_64kbps\n",
       "4        Abdullaah_3awwaad_Al-Juhaynee_128kbps\n",
       "..                                         ...\n",
       "75             translations/urdu_farhat_hashmi\n",
       "76  translations/urdu_shamshad_ali_khan_46kbps\n",
       "77             warsh/warsh_Abdul_Basit_128kbps\n",
       "78        warsh/warsh_ibrahim_aldosary_128kbps\n",
       "79        warsh/warsh_yassin_al_jazaery_64kbps\n",
       "\n",
       "[80 rows x 1 columns]"
      ]
     },
     "execution_count": 5,
     "metadata": {},
     "output_type": "execute_result"
    }
   ],
   "source": [
    "for imam in imam_df['Imam'].unique():\n",
    "    generate_dateset(imam)"
   ]
  }
 ],
 "metadata": {
  "kernelspec": {
   "display_name": ".venv",
   "language": "python",
   "name": "python3"
  },
  "language_info": {
   "codemirror_mode": {
    "name": "ipython",
    "version": 3
   },
   "file_extension": ".py",
   "mimetype": "text/x-python",
   "name": "python",
   "nbconvert_exporter": "python",
   "pygments_lexer": "ipython3",
   "version": "3.10.11"
  },
  "orig_nbformat": 4
 },
 "nbformat": 4,
 "nbformat_minor": 2
}
